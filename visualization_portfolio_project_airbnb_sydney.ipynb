{
 "cells": [
  {
   "attachments": {},
   "cell_type": "markdown",
   "metadata": {},
   "source": [
    "# Airbnb Sydney Listings Data\n",
    "\n",
    "![sydney_photo](sydney_photo.jpg)\n",
    "\n",
    "## Table of Contents: * <a id=\"contents\"></a>\n",
    "\n",
    "\\* **_Note_**: due to GitHub limitations, internal links in the Table of Contents do not work. To access Jupyter Notebook with all internal links working, please click here [nbviewer Jupyter Notebook viewer service](https://nbviewer.org/github/teona-pavliukova/OECD-Electricity-Production/blob/master/oecd_countries_electricity_production.ipynb#eda)\n",
    "\n",
    "- [Goals](#goals)\n",
    "- [Data](#data)\n",
    "    - [Loading the data](#data_loading)\n",
    "    - [Data information](#data_information)\n",
    "    - [Data cleaning](#data_cleaning)\n",
    "- [Exploratory Data Analysis](#eda)\n",
    "    - [Total electricity production in OECD countries](#eda_1)\n",
    "    - [Is electricity production in OECD countries seasonal? How did monthly electricity production changed over time?](#eda_2)\n",
    "    - [Proportions for different energy sources in the OECD total electricity production](#eda_3)\n",
    "    - [Top-5 energy sources in each OECD region in 2022](#eda_4)\n",
    "    - [Changes in total low-carbon electricity production](#eda_5)\n",
    "    - [Percentage of low-carbon power generation in each OECD region](#eda_6)\n",
    "    - [Top-10 countries that produced the largest amount of electricity in 2022](#eda_7)\n",
    "    - [For each energy source, top-5 countries that produced the largest amount of electricity in 2022](#eda_8)\n",
    "    - [Correlation between GDP per capita (in current US Dollars) and low-carbon electricity production share](#eda_9)\n",
    "    - [Distribution of low-carbon electricity production share by GDP quartiles](#eda_10)\n",
    "- [Conclusion](#conclusion)\n",
    "\n"
   ]
  },
  {
   "cell_type": "code",
   "execution_count": null,
   "metadata": {},
   "outputs": [],
   "source": []
  }
 ],
 "metadata": {
  "language_info": {
   "name": "python"
  },
  "orig_nbformat": 4
 },
 "nbformat": 4,
 "nbformat_minor": 2
}
